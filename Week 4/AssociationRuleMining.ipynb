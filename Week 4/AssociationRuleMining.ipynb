{
  "nbformat": 4,
  "nbformat_minor": 0,
  "metadata": {
    "kernelspec": {
      "display_name": "Python 3",
      "language": "python",
      "name": "python3"
    },
    "language_info": {
      "codemirror_mode": {
        "name": "ipython",
        "version": 3
      },
      "file_extension": ".py",
      "mimetype": "text/x-python",
      "name": "python",
      "nbconvert_exporter": "python",
      "pygments_lexer": "ipython3",
      "version": "3.8.3"
    },
    "colab": {
      "name": "AssociationRuleMining.ipynb",
      "provenance": []
    }
  },
  "cells": [
    {
      "cell_type": "markdown",
      "metadata": {
        "id": "oWaL4UsuRpZp"
      },
      "source": [
        "# Week 4: Learning Objectives\n",
        "\n",
        "Towards the end of this lesson, you should be able to:\n",
        "- write Python codes for association rule mining\n",
        "- define different Python built-in functions\n"
      ]
    },
    {
      "cell_type": "markdown",
      "metadata": {
        "id": "9rSEYHgBRpZq"
      },
      "source": [
        "# Question 1\n",
        "\n",
        "1.\tA supermarket transaction database is given as follows. Suppose that the minimum support threshold is 43% (i.e. 3 transactions) and the minimum confidence is 90%:\n",
        "\n",
        "TID|ITEMS\n",
        "---|-----\n",
        "100|1, 2, 3, 4\n",
        "200|2, 4, 5\n",
        "300|1, 2, 4, 5\n",
        "400|1\n",
        "500|1, 2, 3, 4, 5\n",
        "600|1, 5\n",
        "700|2, 3 \n",
        "\n",
        "(a)\tFind all frequent itemsets using the Apriori algorithm.\n",
        "\n",
        "(b)\tFind all Boolean association rules that satisfy the minimum confidence and the minimum support thresholds.\n",
        "\n",
        "<center>\n",
        "$\\operatorname{conf}(A \\rightarrow B)=\\frac{\\sup (A \\cup B)}{\\sup (A)}=\\frac{\\frac{A \\cup B}{N}}{\\frac{A}{N}}=\\frac{A \\cup B}{A}$\n",
        "</center>"
      ]
    },
    {
      "cell_type": "markdown",
      "metadata": {
        "id": "lFlRdwH-RpZq"
      },
      "source": [
        "# Question 2\n",
        "\n",
        "The following contingency table summarizes supermarket transaction data, where hot dogs refer to the transactions containing hot dogs, $\\overline{hotdogs}$ refer to the transactions which do not contain hot dogs, hamburgers refer to the transactions containing hamburgers, and $\\overline{hamburgers}$ refer to the transactions which do not contain hamburgers.\n",
        "\n",
        "|           | hotdogs | $\\overline{hotdogs}$ | $\\sum{row}$ |\n",
        "|-----------|--------|--------|-------|\n",
        "| hamberger | 2000 |500|2500\n",
        "|$\\overline{hamberger}$ | 1000 |1500|2500\n",
        "|$\\sum{col}$ | 3000|1500|5000 \n",
        "\n",
        "(a)\tSuppose that the association rule “hot dogs $\\implies$ hamburgers\" is mined. Given a minimum support threshold of 25% and a minimum confidence threshold of 50%, is this association rule strong?\n",
        "\n",
        "(b)\tBased on the given data, is the purchase of hot dogs independent of the purchase of hamburgers? If not, what kind of correlation relationship exists between the two? "
      ]
    },
    {
      "cell_type": "markdown",
      "metadata": {
        "id": "u_4-_DPzRpZq"
      },
      "source": [
        "## Import the Libraries"
      ]
    },
    {
      "cell_type": "code",
      "metadata": {
        "id": "ODqv0MGhRpZr"
      },
      "source": [
        "import numpy as np\n",
        "import matplotlib.pyplot as plt\n",
        "import pandas as pd\n",
        "from apyori import apriori"
      ],
      "execution_count": null,
      "outputs": []
    },
    {
      "cell_type": "markdown",
      "metadata": {
        "id": "L7brJQ9cRpZr"
      },
      "source": [
        "## Importing the Dataset"
      ]
    },
    {
      "cell_type": "code",
      "metadata": {
        "id": "Z1tnmyrtRpZr",
        "outputId": "32e81368-514f-474c-c366-8f0220460198"
      },
      "source": [
        "store_data = pd.read_csv('store_data.csv', header=None)\n",
        "store_data.head()"
      ],
      "execution_count": null,
      "outputs": [
        {
          "output_type": "execute_result",
          "data": {
            "text/html": [
              "<div>\n",
              "<style scoped>\n",
              "    .dataframe tbody tr th:only-of-type {\n",
              "        vertical-align: middle;\n",
              "    }\n",
              "\n",
              "    .dataframe tbody tr th {\n",
              "        vertical-align: top;\n",
              "    }\n",
              "\n",
              "    .dataframe thead th {\n",
              "        text-align: right;\n",
              "    }\n",
              "</style>\n",
              "<table border=\"1\" class=\"dataframe\">\n",
              "  <thead>\n",
              "    <tr style=\"text-align: right;\">\n",
              "      <th></th>\n",
              "      <th>0</th>\n",
              "      <th>1</th>\n",
              "      <th>2</th>\n",
              "      <th>3</th>\n",
              "      <th>4</th>\n",
              "      <th>5</th>\n",
              "      <th>6</th>\n",
              "      <th>7</th>\n",
              "      <th>8</th>\n",
              "      <th>9</th>\n",
              "      <th>10</th>\n",
              "      <th>11</th>\n",
              "      <th>12</th>\n",
              "      <th>13</th>\n",
              "      <th>14</th>\n",
              "      <th>15</th>\n",
              "      <th>16</th>\n",
              "      <th>17</th>\n",
              "      <th>18</th>\n",
              "      <th>19</th>\n",
              "    </tr>\n",
              "  </thead>\n",
              "  <tbody>\n",
              "    <tr>\n",
              "      <td>0</td>\n",
              "      <td>shrimp</td>\n",
              "      <td>almonds</td>\n",
              "      <td>avocado</td>\n",
              "      <td>vegetables mix</td>\n",
              "      <td>green grapes</td>\n",
              "      <td>whole weat flour</td>\n",
              "      <td>yams</td>\n",
              "      <td>cottage cheese</td>\n",
              "      <td>energy drink</td>\n",
              "      <td>tomato juice</td>\n",
              "      <td>low fat yogurt</td>\n",
              "      <td>green tea</td>\n",
              "      <td>honey</td>\n",
              "      <td>salad</td>\n",
              "      <td>mineral water</td>\n",
              "      <td>salmon</td>\n",
              "      <td>antioxydant juice</td>\n",
              "      <td>frozen smoothie</td>\n",
              "      <td>spinach</td>\n",
              "      <td>olive oil</td>\n",
              "    </tr>\n",
              "    <tr>\n",
              "      <td>1</td>\n",
              "      <td>burgers</td>\n",
              "      <td>meatballs</td>\n",
              "      <td>eggs</td>\n",
              "      <td>NaN</td>\n",
              "      <td>NaN</td>\n",
              "      <td>NaN</td>\n",
              "      <td>NaN</td>\n",
              "      <td>NaN</td>\n",
              "      <td>NaN</td>\n",
              "      <td>NaN</td>\n",
              "      <td>NaN</td>\n",
              "      <td>NaN</td>\n",
              "      <td>NaN</td>\n",
              "      <td>NaN</td>\n",
              "      <td>NaN</td>\n",
              "      <td>NaN</td>\n",
              "      <td>NaN</td>\n",
              "      <td>NaN</td>\n",
              "      <td>NaN</td>\n",
              "      <td>NaN</td>\n",
              "    </tr>\n",
              "    <tr>\n",
              "      <td>2</td>\n",
              "      <td>chutney</td>\n",
              "      <td>NaN</td>\n",
              "      <td>NaN</td>\n",
              "      <td>NaN</td>\n",
              "      <td>NaN</td>\n",
              "      <td>NaN</td>\n",
              "      <td>NaN</td>\n",
              "      <td>NaN</td>\n",
              "      <td>NaN</td>\n",
              "      <td>NaN</td>\n",
              "      <td>NaN</td>\n",
              "      <td>NaN</td>\n",
              "      <td>NaN</td>\n",
              "      <td>NaN</td>\n",
              "      <td>NaN</td>\n",
              "      <td>NaN</td>\n",
              "      <td>NaN</td>\n",
              "      <td>NaN</td>\n",
              "      <td>NaN</td>\n",
              "      <td>NaN</td>\n",
              "    </tr>\n",
              "    <tr>\n",
              "      <td>3</td>\n",
              "      <td>turkey</td>\n",
              "      <td>avocado</td>\n",
              "      <td>NaN</td>\n",
              "      <td>NaN</td>\n",
              "      <td>NaN</td>\n",
              "      <td>NaN</td>\n",
              "      <td>NaN</td>\n",
              "      <td>NaN</td>\n",
              "      <td>NaN</td>\n",
              "      <td>NaN</td>\n",
              "      <td>NaN</td>\n",
              "      <td>NaN</td>\n",
              "      <td>NaN</td>\n",
              "      <td>NaN</td>\n",
              "      <td>NaN</td>\n",
              "      <td>NaN</td>\n",
              "      <td>NaN</td>\n",
              "      <td>NaN</td>\n",
              "      <td>NaN</td>\n",
              "      <td>NaN</td>\n",
              "    </tr>\n",
              "    <tr>\n",
              "      <td>4</td>\n",
              "      <td>mineral water</td>\n",
              "      <td>milk</td>\n",
              "      <td>energy bar</td>\n",
              "      <td>whole wheat rice</td>\n",
              "      <td>green tea</td>\n",
              "      <td>NaN</td>\n",
              "      <td>NaN</td>\n",
              "      <td>NaN</td>\n",
              "      <td>NaN</td>\n",
              "      <td>NaN</td>\n",
              "      <td>NaN</td>\n",
              "      <td>NaN</td>\n",
              "      <td>NaN</td>\n",
              "      <td>NaN</td>\n",
              "      <td>NaN</td>\n",
              "      <td>NaN</td>\n",
              "      <td>NaN</td>\n",
              "      <td>NaN</td>\n",
              "      <td>NaN</td>\n",
              "      <td>NaN</td>\n",
              "    </tr>\n",
              "  </tbody>\n",
              "</table>\n",
              "</div>"
            ],
            "text/plain": [
              "              0          1           2                 3             4   \\\n",
              "0         shrimp    almonds     avocado    vegetables mix  green grapes   \n",
              "1        burgers  meatballs        eggs               NaN           NaN   \n",
              "2        chutney        NaN         NaN               NaN           NaN   \n",
              "3         turkey    avocado         NaN               NaN           NaN   \n",
              "4  mineral water       milk  energy bar  whole wheat rice     green tea   \n",
              "\n",
              "                 5     6               7             8             9   \\\n",
              "0  whole weat flour  yams  cottage cheese  energy drink  tomato juice   \n",
              "1               NaN   NaN             NaN           NaN           NaN   \n",
              "2               NaN   NaN             NaN           NaN           NaN   \n",
              "3               NaN   NaN             NaN           NaN           NaN   \n",
              "4               NaN   NaN             NaN           NaN           NaN   \n",
              "\n",
              "               10         11     12     13             14      15  \\\n",
              "0  low fat yogurt  green tea  honey  salad  mineral water  salmon   \n",
              "1             NaN        NaN    NaN    NaN            NaN     NaN   \n",
              "2             NaN        NaN    NaN    NaN            NaN     NaN   \n",
              "3             NaN        NaN    NaN    NaN            NaN     NaN   \n",
              "4             NaN        NaN    NaN    NaN            NaN     NaN   \n",
              "\n",
              "                  16               17       18         19  \n",
              "0  antioxydant juice  frozen smoothie  spinach  olive oil  \n",
              "1                NaN              NaN      NaN        NaN  \n",
              "2                NaN              NaN      NaN        NaN  \n",
              "3                NaN              NaN      NaN        NaN  \n",
              "4                NaN              NaN      NaN        NaN  "
            ]
          },
          "metadata": {
            "tags": []
          },
          "execution_count": 3
        }
      ]
    },
    {
      "cell_type": "markdown",
      "metadata": {
        "id": "tVr5xe1WRpZs"
      },
      "source": [
        "## Data Preprocessing\n",
        "\n",
        "The Apriori library we are going to use requires our dataset to be in the form of a list of lists, where the whole dataset is a big list and each transaction in the dataset is an inner list within the outer big list. Currently we have data in the form of a pandas dataframe. To convert our pandas dataframe into a list of lists, execute the following script:"
      ]
    },
    {
      "cell_type": "code",
      "metadata": {
        "id": "OLrayhFiRpZs"
      },
      "source": [
        "records = []\n",
        "for i in range(0, 7501):\n",
        "    records.append([str(store_data.values[i,j]) for j in range(0, 20)])"
      ],
      "execution_count": null,
      "outputs": []
    },
    {
      "cell_type": "markdown",
      "metadata": {
        "id": "ZJSymmOeRpZs"
      },
      "source": [
        "## Applying Apriori Algorithm\n",
        "\n",
        "You must set the parameters in the apriori algorithm. <br>\n"
      ]
    },
    {
      "cell_type": "code",
      "metadata": {
        "id": "d4P1JHNlRpZt"
      },
      "source": [
        "association_rules = apriori(records, min_support=0.0045, min_confidence=0.2, min_lift=3, min_length=2)\n",
        "association_results = list(association_rules)"
      ],
      "execution_count": null,
      "outputs": []
    },
    {
      "cell_type": "markdown",
      "metadata": {
        "id": "br2EVlZ8RpZt"
      },
      "source": [
        "## Check the output"
      ]
    },
    {
      "cell_type": "code",
      "metadata": {
        "id": "PnzIMCSiRpZt",
        "outputId": "4547170d-c546-4f36-c098-b8676594c860"
      },
      "source": [
        "len(association_results)"
      ],
      "execution_count": null,
      "outputs": [
        {
          "output_type": "execute_result",
          "data": {
            "text/plain": [
              "48"
            ]
          },
          "metadata": {
            "tags": []
          },
          "execution_count": 6
        }
      ]
    },
    {
      "cell_type": "code",
      "metadata": {
        "id": "rHYH--CdRpZt",
        "outputId": "8e009f0b-c630-47b3-eabe-db93c2a2cd7e"
      },
      "source": [
        "print(association_results[0])"
      ],
      "execution_count": null,
      "outputs": [
        {
          "output_type": "stream",
          "text": [
            "RelationRecord(items=frozenset({'light cream', 'chicken'}), support=0.004532728969470737, ordered_statistics=[OrderedStatistic(items_base=frozenset({'light cream'}), items_add=frozenset({'chicken'}), confidence=0.29059829059829057, lift=4.84395061728395)])\n"
          ],
          "name": "stdout"
        }
      ]
    },
    {
      "cell_type": "markdown",
      "metadata": {
        "id": "WMqTCCkXRpZt"
      },
      "source": [
        "## Output in better presentation"
      ]
    },
    {
      "cell_type": "code",
      "metadata": {
        "id": "PaC1M_NDRpZt",
        "outputId": "f82c97bd-451d-484e-8f64-ed61c3976f01"
      },
      "source": [
        "cnt =0\n",
        "\n",
        "for item in association_results:\n",
        "    cnt += 1\n",
        "    # first index of the inner list\n",
        "    # Contains base item and add item\n",
        "    pair = item[0] \n",
        "    items = [x for x in pair]\n",
        "    print(\"(Rule \" + str(cnt) + \") \" + items[0] + \" -> \" + items[1])\n",
        "\n",
        "    #second index of the inner list\n",
        "    print(\"Support: \" + str(round(item[1],3)))\n",
        "\n",
        "    #third index of the list located at 0th\n",
        "    #of the third index of the inner list\n",
        "\n",
        "    print(\"Confidence: \" + str(round(item[2][0][2],4)))\n",
        "    print(\"Lift: \" + str(round(item[2][0][3],4)))\n",
        "    print(\"=====================================\")"
      ],
      "execution_count": null,
      "outputs": [
        {
          "output_type": "stream",
          "text": [
            "(Rule 1) light cream -> chicken\n",
            "Support: 0.005\n",
            "Confidence: 0.2906\n",
            "Lift: 4.844\n",
            "=====================================\n",
            "(Rule 2) mushroom cream sauce -> escalope\n",
            "Support: 0.006\n",
            "Confidence: 0.3007\n",
            "Lift: 3.7908\n",
            "=====================================\n",
            "(Rule 3) escalope -> pasta\n",
            "Support: 0.006\n",
            "Confidence: 0.3729\n",
            "Lift: 4.7008\n",
            "=====================================\n",
            "(Rule 4) herb & pepper -> ground beef\n",
            "Support: 0.016\n",
            "Confidence: 0.3235\n",
            "Lift: 3.292\n",
            "=====================================\n",
            "(Rule 5) tomato sauce -> ground beef\n",
            "Support: 0.005\n",
            "Confidence: 0.3774\n",
            "Lift: 3.8407\n",
            "=====================================\n",
            "(Rule 6) olive oil -> whole wheat pasta\n",
            "Support: 0.008\n",
            "Confidence: 0.2715\n",
            "Lift: 4.1224\n",
            "=====================================\n",
            "(Rule 7) shrimp -> pasta\n",
            "Support: 0.005\n",
            "Confidence: 0.322\n",
            "Lift: 4.5067\n",
            "=====================================\n",
            "(Rule 8) nan -> light cream\n",
            "Support: 0.005\n",
            "Confidence: 0.2906\n",
            "Lift: 4.844\n",
            "=====================================\n",
            "(Rule 9) chocolate -> frozen vegetables\n",
            "Support: 0.005\n",
            "Confidence: 0.2326\n",
            "Lift: 3.2545\n",
            "=====================================\n",
            "(Rule 10) cooking oil -> spaghetti\n",
            "Support: 0.005\n",
            "Confidence: 0.5714\n",
            "Lift: 3.282\n",
            "=====================================\n",
            "(Rule 11) mushroom cream sauce -> escalope\n",
            "Support: 0.006\n",
            "Confidence: 0.3007\n",
            "Lift: 3.7908\n",
            "=====================================\n",
            "(Rule 12) escalope -> nan\n",
            "Support: 0.006\n",
            "Confidence: 0.3729\n",
            "Lift: 4.7008\n",
            "=====================================\n",
            "(Rule 13) frozen vegetables -> spaghetti\n",
            "Support: 0.009\n",
            "Confidence: 0.311\n",
            "Lift: 3.1653\n",
            "=====================================\n",
            "(Rule 14) frozen vegetables -> olive oil\n",
            "Support: 0.005\n",
            "Confidence: 0.2034\n",
            "Lift: 3.0883\n",
            "=====================================\n",
            "(Rule 15) frozen vegetables -> mineral water\n",
            "Support: 0.007\n",
            "Confidence: 0.3051\n",
            "Lift: 3.2006\n",
            "=====================================\n",
            "(Rule 16) frozen vegetables -> olive oil\n",
            "Support: 0.006\n",
            "Confidence: 0.2057\n",
            "Lift: 3.124\n",
            "=====================================\n",
            "(Rule 17) frozen vegetables -> spaghetti\n",
            "Support: 0.006\n",
            "Confidence: 0.2153\n",
            "Lift: 3.0131\n",
            "=====================================\n",
            "(Rule 18) tomatoes -> frozen vegetables\n",
            "Support: 0.007\n",
            "Confidence: 0.2392\n",
            "Lift: 3.498\n",
            "=====================================\n",
            "(Rule 19) spaghetti -> ground beef\n",
            "Support: 0.005\n",
            "Confidence: 0.3226\n",
            "Lift: 3.2831\n",
            "=====================================\n",
            "(Rule 20) mineral water -> herb & pepper\n",
            "Support: 0.007\n",
            "Confidence: 0.3906\n",
            "Lift: 3.9757\n",
            "=====================================\n",
            "(Rule 21) nan -> herb & pepper\n",
            "Support: 0.016\n",
            "Confidence: 0.3235\n",
            "Lift: 3.292\n",
            "=====================================\n",
            "(Rule 22) herb & pepper -> spaghetti\n",
            "Support: 0.006\n",
            "Confidence: 0.3934\n",
            "Lift: 4.0044\n",
            "=====================================\n",
            "(Rule 23) milk -> olive oil\n",
            "Support: 0.005\n",
            "Confidence: 0.2242\n",
            "Lift: 3.4049\n",
            "=====================================\n",
            "(Rule 24) nan -> tomato sauce\n",
            "Support: 0.005\n",
            "Confidence: 0.3774\n",
            "Lift: 3.8407\n",
            "=====================================\n",
            "(Rule 25) shrimp -> spaghetti\n",
            "Support: 0.006\n",
            "Confidence: 0.5233\n",
            "Lift: 3.0053\n",
            "=====================================\n",
            "(Rule 26) milk -> olive oil\n",
            "Support: 0.007\n",
            "Confidence: 0.203\n",
            "Lift: 3.0825\n",
            "=====================================\n",
            "(Rule 27) mineral water -> olive oil\n",
            "Support: 0.005\n",
            "Confidence: 0.2254\n",
            "Lift: 3.423\n",
            "=====================================\n",
            "(Rule 28) nan -> olive oil\n",
            "Support: 0.008\n",
            "Confidence: 0.2715\n",
            "Lift: 4.1224\n",
            "=====================================\n",
            "(Rule 29) nan -> shrimp\n",
            "Support: 0.005\n",
            "Confidence: 0.322\n",
            "Lift: 4.5067\n",
            "=====================================\n",
            "(Rule 30) pancakes -> olive oil\n",
            "Support: 0.005\n",
            "Confidence: 0.2011\n",
            "Lift: 3.0529\n",
            "=====================================\n",
            "(Rule 31) nan -> chocolate\n",
            "Support: 0.005\n",
            "Confidence: 0.2326\n",
            "Lift: 3.2545\n",
            "=====================================\n",
            "(Rule 32) nan -> cooking oil\n",
            "Support: 0.005\n",
            "Confidence: 0.5714\n",
            "Lift: 3.282\n",
            "=====================================\n",
            "(Rule 33) nan -> frozen vegetables\n",
            "Support: 0.009\n",
            "Confidence: 0.311\n",
            "Lift: 3.1653\n",
            "=====================================\n",
            "(Rule 34) frozen vegetables -> mineral water\n",
            "Support: 0.005\n",
            "Confidence: 0.2881\n",
            "Lift: 3.0228\n",
            "=====================================\n",
            "(Rule 35) nan -> frozen vegetables\n",
            "Support: 0.005\n",
            "Confidence: 0.2034\n",
            "Lift: 3.0883\n",
            "=====================================\n",
            "(Rule 36) nan -> frozen vegetables\n",
            "Support: 0.007\n",
            "Confidence: 0.3068\n",
            "Lift: 3.2188\n",
            "=====================================\n",
            "(Rule 37) nan -> frozen vegetables\n",
            "Support: 0.006\n",
            "Confidence: 0.2057\n",
            "Lift: 3.124\n",
            "=====================================\n",
            "(Rule 38) nan -> frozen vegetables\n",
            "Support: 0.006\n",
            "Confidence: 0.2153\n",
            "Lift: 3.0131\n",
            "=====================================\n",
            "(Rule 39) tomatoes -> nan\n",
            "Support: 0.007\n",
            "Confidence: 0.2392\n",
            "Lift: 3.498\n",
            "=====================================\n",
            "(Rule 40) nan -> spaghetti\n",
            "Support: 0.005\n",
            "Confidence: 0.3226\n",
            "Lift: 3.2831\n",
            "=====================================\n",
            "(Rule 41) nan -> mineral water\n",
            "Support: 0.007\n",
            "Confidence: 0.3906\n",
            "Lift: 3.9757\n",
            "=====================================\n",
            "(Rule 42) nan -> herb & pepper\n",
            "Support: 0.006\n",
            "Confidence: 0.3934\n",
            "Lift: 4.0044\n",
            "=====================================\n",
            "(Rule 43) nan -> milk\n",
            "Support: 0.005\n",
            "Confidence: 0.2242\n",
            "Lift: 3.4049\n",
            "=====================================\n",
            "(Rule 44) nan -> shrimp\n",
            "Support: 0.006\n",
            "Confidence: 0.5233\n",
            "Lift: 3.0053\n",
            "=====================================\n",
            "(Rule 45) nan -> milk\n",
            "Support: 0.007\n",
            "Confidence: 0.203\n",
            "Lift: 3.0825\n",
            "=====================================\n",
            "(Rule 46) nan -> mineral water\n",
            "Support: 0.005\n",
            "Confidence: 0.2254\n",
            "Lift: 3.423\n",
            "=====================================\n",
            "(Rule 47) pancakes -> nan\n",
            "Support: 0.005\n",
            "Confidence: 0.2011\n",
            "Lift: 3.0529\n",
            "=====================================\n",
            "(Rule 48) mineral water -> frozen vegetables\n",
            "Support: 0.005\n",
            "Confidence: 0.2881\n",
            "Lift: 3.0228\n",
            "=====================================\n"
          ],
          "name": "stdout"
        }
      ]
    },
    {
      "cell_type": "code",
      "metadata": {
        "id": "FyfPvPm9RpZu"
      },
      "source": [
        ""
      ],
      "execution_count": null,
      "outputs": []
    }
  ]
}